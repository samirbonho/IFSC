{
  "nbformat": 4,
  "nbformat_minor": 0,
  "metadata": {
    "colab": {
      "name": "8PSK.ipynb",
      "provenance": []
    },
    "kernelspec": {
      "name": "python3",
      "display_name": "Python 3"
    },
    "language_info": {
      "name": "python"
    }
  },
  "cells": [
    {
      "cell_type": "code",
      "execution_count": null,
      "metadata": {
        "colab": {
          "base_uri": "https://localhost:8080/"
        },
        "id": "z8CAlRvLFOLt",
        "outputId": "225db98b-5740-4853-c524-9b7db11af2ac"
      },
      "outputs": [
        {
          "output_type": "stream",
          "name": "stdout",
          "text": [
            "[1. 1. 0. 0. 1. 0. 1. 0. 1. 1. 1. 1.]\n",
            "[1 1 0 0 1 0 1 0 1 1 1 1]\n"
          ]
        }
      ],
      "source": [
        "import numpy as np\n",
        "import math\n",
        "import matplotlib.pyplot as plt\n",
        "\n",
        "bits = np.array([1, 1, 0, 0, 1, 0, 1, 0, 1, 1, 1, 1])\n",
        "\n",
        "def conv_sp(bits, p):\n",
        "    return np.reshape(bits, (-1, p))\n",
        "\n",
        "table = {\n",
        "    1: [1,1,1], \n",
        "    2: [1,1,0], \n",
        "    3: [0,1,0],\n",
        "    4: [0,1,1],\n",
        "    5: [0,0,1],\n",
        "    6: [0,0,0],\n",
        "    7: [1,0,0],\n",
        "    8: [1,0,1]\n",
        "}\n",
        "\n",
        "\n",
        "# function to return key for any value \n",
        "def get_key(val): \n",
        "    for key, value in table.items(): \n",
        "         if np.array_equal(val,value): \n",
        "            return key\n",
        "    return \"key doesn't exist\"\n",
        "\n",
        "def s(i, E, M):\n",
        "     return (np.sqrt(E)*np.cos(2*(i-1)*(np.pi/M)), np.sqrt(E)*np.sin(2*(i-1)*(np.pi/M)))\n",
        "\n",
        "def freq_shift(s, fc, t):\n",
        "    return (s[0]*np.sqrt(2/t[-1])*np.cos(2*np.pi*fc*t))+(s[1]*np.sqrt(2/t[-1])*np.sin(2*np.pi*fc*t))\n",
        "\n",
        "E = 12\n",
        "M =  8\n",
        "fc = 1e4\n",
        "Ts = 1e-3\n",
        "p=3\n",
        "\n",
        "conv = conv_sp(bits,p)\n",
        "ts = np.linspace(0, Ts, 1000)\n",
        "qpsk = np.array([])\n",
        "for signal in conv:\n",
        "    i = get_key(signal)\n",
        "    qpsk = np.append(qpsk, freq_shift(s(i, E, M), fc, ts))\n",
        "\n",
        "t = np.linspace(0, Ts*conv.shape[0], qpsk.size)\n",
        "plt.plot(t, qpsk)\n",
        "plt.ylabel(\"Amplitude (V)\")\n",
        "plt.xlabel(\"time (s)\")\n",
        "plt.show()\n",
        "\n",
        "\n",
        "\n",
        "\n",
        "\n",
        "psi_1 = np.sqrt(2/Ts)*np.cos(2*np.pi*fc*t)\n",
        "psi_2 = np.sqrt(2/Ts)*np.sin(2*np.pi*fc*t)\n",
        "a1 = qpsk*psi_1\n",
        "a2 = qpsk*psi_2\n",
        "\n",
        "plt.figure()\n",
        "plt.plot(t, a1,color='blue')\n",
        "plt.ylabel(\"Amplitude (V)\")\n",
        "plt.xlabel(\"time (s)\")\n",
        "\n",
        "plt.plot(t, a2,color='red')\n",
        "plt.ylabel(\"Amplitude (V)\")\n",
        "plt.xlabel(\"time (s)\")\n",
        "\n",
        "\n",
        "from scipy.integrate import simps\n",
        "\n",
        "X = np.array([])\n",
        "Y = np.array([])\n",
        "for x in range(conv.shape[0]):\n",
        "    X = np.append(X, simps(a1[ts.size*x:ts.size*(x+1)], ts))\n",
        "    Y = np.append(Y, simps(a2[ts.size*x:ts.size*(x+1)], ts))\n",
        "    \n",
        "\n",
        "##calculo do arco tangente\n",
        "phi_received = []\n",
        "phi_received = (np.arctan2(Y,X)*180/np.pi + 360) % 360\n",
        "print(phi_received) \n",
        "\n",
        "phi_constelar= []\n",
        "for i in range(1,M+1):\n",
        "  phi_constelar= np.append(phi_constelar,(2*(i-1)*(180/M)))\n",
        "print(phi_constelar)\n",
        "\n",
        "index = []\n",
        "for i in phi_received:\n",
        "    index.append(np.argmin(abs(i-phi_constelar)))\n",
        "\n",
        "print(index)\n",
        "\n",
        "bits_received=np.array([])\n",
        "\n",
        "for x in index:\n",
        "  bits_received = np.append(bits_received,table[x+1])\n",
        "\n",
        "print(bits_received)\n",
        "print(bits)\n",
        "\n",
        "\n",
        "\n"
      ]
    },
    {
      "cell_type": "code",
      "source": [
        ""
      ],
      "metadata": {
        "id": "nhlXHyYu3w67"
      },
      "execution_count": null,
      "outputs": []
    }
  ]
}